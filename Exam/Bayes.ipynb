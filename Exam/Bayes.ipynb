{
 "cells": [
  {
   "cell_type": "code",
   "execution_count": 1,
   "metadata": {},
   "outputs": [
    {
     "name": "stdout",
     "output_type": "stream",
     "text": [
      "Populating the interactive namespace from numpy and matplotlib\n"
     ]
    }
   ],
   "source": [
    "%pylab inline"
   ]
  },
  {
   "cell_type": "code",
   "execution_count": 2,
   "metadata": {},
   "outputs": [
    {
     "name": "stderr",
     "output_type": "stream",
     "text": [
      "/anaconda3/lib/python3.6/site-packages/h5py/__init__.py:36: FutureWarning: Conversion of the second argument of issubdtype from `float` to `np.floating` is deprecated. In future, it will be treated as `np.float64 == np.dtype(float).type`.\n",
      "  from ._conv import register_converters as _register_converters\n",
      "Using TensorFlow backend.\n"
     ]
    }
   ],
   "source": [
    "from keras.datasets import mnist\n",
    "from sklearn.metrics import confusion_matrix\n",
    "from sklearn.naive_bayes import GaussianNB, BernoulliNB, MultinomialNB"
   ]
  },
  {
   "cell_type": "code",
   "execution_count": 3,
   "metadata": {},
   "outputs": [],
   "source": [
    "(x_train, y_train), (x_test, y_test) = mnist.load_data()"
   ]
  },
  {
   "cell_type": "code",
   "execution_count": 4,
   "metadata": {},
   "outputs": [],
   "source": [
    "bayes = [GaussianNB, MultinomialNB, BernoulliNB]"
   ]
  },
  {
   "cell_type": "code",
   "execution_count": 5,
   "metadata": {},
   "outputs": [],
   "source": [
    "## Function for classifying into each of the three classes and prediction:\n",
    "def classify_predict(data, target):\n",
    "    for b in bayes:\n",
    "        if b == BernoulliNB:\n",
    "            cls = b(binarize=data.mean(0))\n",
    "        else:\n",
    "            cls = b()\n",
    "        ## Prediction:\n",
    "        cls.fit(data, target)\n",
    "        cfs = confusion_matrix(target, cls.predict(data))\n",
    "        score = cls.score(data, target)\n",
    "        \n",
    "        print('Bayes Model:', b.__name__)\n",
    "        print(cfs)\n",
    "        print('Score: ', round(score*100, 2), '%')\n",
    "        print()"
   ]
  },
  {
   "cell_type": "code",
   "execution_count": 6,
   "metadata": {},
   "outputs": [],
   "source": [
    "x_train = x_train.reshape(60000, 784)\n",
    "x_test = x_test.reshape(10000, 784)\n",
    "x_train = x_train.astype('float32')\n",
    "x_test = x_test.astype('float32')\n",
    "x_train /= 255\n",
    "x_test /= 255"
   ]
  },
  {
   "cell_type": "code",
   "execution_count": 7,
   "metadata": {},
   "outputs": [
    {
     "name": "stdout",
     "output_type": "stream",
     "text": [
      "Bayes Model: GaussianNB\n",
      "[[5206    9   33   16    9   13  165    5  356  111]\n",
      " [   4 6341   15   33    3   12   74    4  173   83]\n",
      " [ 484  152 1786  474   33   37 1443   17 1444   88]\n",
      " [ 274  295   49 2277   11   15  268   46 2274  622]\n",
      " [ 114   39   49   33 1027   35  483   21 1259 2782]\n",
      " [ 525  122   33  125   34  336  273   11 3411  551]\n",
      " [  47   92   25    3    4   19 5572    0  148    8]\n",
      " [  27   36    9   54   51    8   15 1919  190 3956]\n",
      " [  88  722   23   51   19   33   80    6 3802 1027]\n",
      " [  30   31   17    7   33    4    4   83  112 5628]]\n",
      "Score:  56.49 %\n",
      "\n",
      "Bayes Model: MultinomialNB\n",
      "[[5363    4   31   16   10   82  100    0  311    6]\n",
      " [   0 6311   45   40    6   28   33    3  259   17]\n",
      " [  79   82 4933  131   63    8  274   47  326   15]\n",
      " [  34  116  296 4955   12  123   59   47  290  199]\n",
      " [  19   20   37    5 4337   16  119   14  232 1043]\n",
      " [ 159   47   47  657  108 3584  131   12  473  203]\n",
      " [  62  115   83    3   30  134 5409    0   81    1]\n",
      " [  46  106   42   24  149    1    7 5152  203  535]\n",
      " [  35  334   95  316   72  203   49   14 4503  230]\n",
      " [  49   52   22   77  395   20    3  164  239 4928]]\n",
      "Score:  82.46 %\n",
      "\n",
      "Bayes Model: BernoulliNB\n",
      "[[5267    4   29   23   15  233  163    0  173   16]\n",
      " [   0 6416   37   16    4   73   25    2  157   12]\n",
      " [  93  105 4887  173  110   19  240   59  255   17]\n",
      " [  49  148  269 4911   12  156   55   70  280  181]\n",
      " [  17   54   41    1 4567   27   90   23  125  897]\n",
      " [ 136   59   58  741  134 3786  118   20  186  183]\n",
      " [  74  141  110    3   40  155 5348    0   45    2]\n",
      " [  25  141   39   16  178    7    2 5283  130  444]\n",
      " [  63  288   93  459   69  193   40   13 4398  235]\n",
      " [  62   98   25   83  419   29    2  207  138 4886]]\n",
      "Score:  82.92 %\n",
      "\n"
     ]
    }
   ],
   "source": [
    "classify_predict(x_train, y_train)"
   ]
  },
  {
   "cell_type": "code",
   "execution_count": 8,
   "metadata": {},
   "outputs": [],
   "source": [
    "#plt.figure(figsize=(10, 10))\n",
    "#plt.hist(x_train)"
   ]
  },
  {
   "cell_type": "code",
   "execution_count": 9,
   "metadata": {},
   "outputs": [
    {
     "name": "stdout",
     "output_type": "stream",
     "text": [
      "Bayes Model: GaussianNB\n",
      "[[ 884    1    3    2    2    1   61    1    6   19]\n",
      " [   0 1101    2    2    1    2   13    0    9    5]\n",
      " [  56   47  323   91    9    7  342    6  133   18]\n",
      " [  39   81    8  484    5    5  144   11  110  123]\n",
      " [  18    5    5    1  227    5  142    9   76  494]\n",
      " [  75   38    4   31   11   82  124    2  412  113]\n",
      " [   6   16    5    0    1    4  921    0    4    1]\n",
      " [   2   18    0   10    9    0    7  346   23  613]\n",
      " [   7  143    5   12   10    5   84    5  413  290]\n",
      " [   5   11    4    8    5    0    4   10    6  956]]\n",
      "Score:  57.37 %\n",
      "\n",
      "Bayes Model: MultinomialNB\n",
      "[[ 914    0    1    5    1    6   11    1   41    0]\n",
      " [   0 1067   20    9    0    0    5    0   33    1]\n",
      " [  16    8  872   17    9    2   37   14   56    1]\n",
      " [   4    8   45  849    1   16    4   14   45   24]\n",
      " [   4    2    6    0  707    0   23    1   39  200]\n",
      " [  22   11    7  106   21  601   16    5   74   29]\n",
      " [  10   17    9    0    8   29  866    0   19    0]\n",
      " [   1   21   15    4   25    0    1  852   32   77]\n",
      " [   5   28   17   48   13   23    7    9  796   28]\n",
      " [   8    9    3    9   76    7    1   18   39  839]]\n",
      "Score:  83.63 %\n",
      "\n",
      "Bayes Model: BernoulliNB\n",
      "[[ 884    0    3    6    1   35   23    1   27    0]\n",
      " [   0 1089   18    5    0    3    4    0   16    0]\n",
      " [  19   10  862   22   22    4   30   16   46    1]\n",
      " [   3   17   40  846    2   17    7   18   41   19]\n",
      " [   2    8    4    0  780    0   17    1   16  154]\n",
      " [  15   11    6  113   22  651   16    8   28   22]\n",
      " [  14   23   12    1    9   38  851    0   10    0]\n",
      " [   2   28   16    4   20    1    1  874   16   66]\n",
      " [  11   32   16   58   14   29    8    5  772   29]\n",
      " [   8   17    4    7   79    9    0   35   22  828]]\n",
      "Score:  84.37 %\n",
      "\n"
     ]
    }
   ],
   "source": [
    "classify_predict(x_test, y_test)"
   ]
  },
  {
   "cell_type": "code",
   "execution_count": null,
   "metadata": {},
   "outputs": [],
   "source": []
  }
 ],
 "metadata": {
  "kernelspec": {
   "display_name": "Python 3",
   "language": "python",
   "name": "python3"
  },
  "language_info": {
   "codemirror_mode": {
    "name": "ipython",
    "version": 3
   },
   "file_extension": ".py",
   "mimetype": "text/x-python",
   "name": "python",
   "nbconvert_exporter": "python",
   "pygments_lexer": "ipython3",
   "version": "3.6.5"
  }
 },
 "nbformat": 4,
 "nbformat_minor": 2
}
