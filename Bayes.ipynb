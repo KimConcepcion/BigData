{
 "cells": [
  {
   "cell_type": "code",
   "execution_count": 72,
   "metadata": {},
   "outputs": [
    {
     "name": "stdout",
     "output_type": "stream",
     "text": [
      "Populating the interactive namespace from numpy and matplotlib\n"
     ]
    }
   ],
   "source": [
    "%pylab inline"
   ]
  },
  {
   "cell_type": "code",
   "execution_count": 73,
   "metadata": {},
   "outputs": [],
   "source": [
    "## Import Iris (flower) dataset etc.\n",
    "from sklearn import datasets\n",
    "from sklearn.metrics import confusion_matrix\n",
    "from sklearn.naive_bayes import GaussianNB, MultinomialNB, BernoulliNB ## Remember that these are the 3 classes"
   ]
  },
  {
   "cell_type": "code",
   "execution_count": 74,
   "metadata": {},
   "outputs": [],
   "source": [
    "## Load the data:\n",
    "data_iris = datasets.load_iris()\n",
    "target = data_iris.target\n",
    "data = data_iris.data"
   ]
  },
  {
   "cell_type": "code",
   "execution_count": 75,
   "metadata": {},
   "outputs": [],
   "source": [
    "bayes = [GaussianNB, MultinomialNB, BernoulliNB]"
   ]
  },
  {
   "cell_type": "code",
   "execution_count": 76,
   "metadata": {},
   "outputs": [],
   "source": [
    "## Function for classifying into each of the three classes and prediction:\n",
    "def classify_predict(data, target):\n",
    "    for b in bayes:\n",
    "        if b == BernoulliNB:\n",
    "            cls = b(binarize=data.mean(0))\n",
    "        else:\n",
    "            cls = b()\n",
    "        ## Prediction:\n",
    "        cls.fit(data, target)\n",
    "        cfs = confusion_matrix(target, cls.predict(data))\n",
    "        print(b.__name__)\n",
    "        print(cfs)\n",
    "        print()"
   ]
  },
  {
   "cell_type": "code",
   "execution_count": 77,
   "metadata": {},
   "outputs": [
    {
     "name": "stdout",
     "output_type": "stream",
     "text": [
      "Iris dataset\n",
      "GaussianNB\n",
      "[[50  0  0]\n",
      " [ 0 47  3]\n",
      " [ 0  3 47]]\n",
      "\n",
      "MultinomialNB\n",
      "[[50  0  0]\n",
      " [ 0 46  4]\n",
      " [ 0  3 47]]\n",
      "\n",
      "BernoulliNB\n",
      "[[50  0  0]\n",
      " [ 6 19 25]\n",
      " [ 0  6 44]]\n",
      "\n"
     ]
    }
   ],
   "source": [
    "print('Iris dataset')\n",
    "classify_predict(data, target)"
   ]
  },
  {
   "cell_type": "code",
   "execution_count": 78,
   "metadata": {},
   "outputs": [
    {
     "data": {
      "text/plain": [
       "numpy.ndarray"
      ]
     },
     "execution_count": 78,
     "metadata": {},
     "output_type": "execute_result"
    }
   ],
   "source": [
    "## Load the data (wine):\n",
    "data_wine = datasets.load_wine()\n",
    "target = data_wine.target\n",
    "data = data_wine.data\n",
    "type(target)"
   ]
  },
  {
   "cell_type": "code",
   "execution_count": 79,
   "metadata": {},
   "outputs": [
    {
     "name": "stdout",
     "output_type": "stream",
     "text": [
      "Wine dataset\n",
      "GaussianNB\n",
      "[[58  1  0]\n",
      " [ 0 70  1]\n",
      " [ 0  0 48]]\n",
      "\n",
      "MultinomialNB\n",
      "[[52  5  2]\n",
      " [ 3 61  7]\n",
      " [ 1  5 42]]\n",
      "\n",
      "BernoulliNB\n",
      "[[58  1  0]\n",
      " [ 4 62  5]\n",
      " [ 0  1 47]]\n",
      "\n"
     ]
    }
   ],
   "source": [
    "print('Wine dataset')\n",
    "classify_predict(data, target)"
   ]
  },
  {
   "cell_type": "code",
   "execution_count": 80,
   "metadata": {},
   "outputs": [],
   "source": [
    "## Load the data (diabetes)\n",
    "data_bCancer = datasets.load_breast_cancer()\n",
    "target = data_bCancer.target\n",
    "data = data_bCancer.data"
   ]
  },
  {
   "cell_type": "code",
   "execution_count": 81,
   "metadata": {},
   "outputs": [
    {
     "name": "stdout",
     "output_type": "stream",
     "text": [
      "Breast Cancer\n",
      "GaussianNB\n",
      "[[189  23]\n",
      " [ 10 347]]\n",
      "\n",
      "MultinomialNB\n",
      "[[163  49]\n",
      " [ 10 347]]\n",
      "\n",
      "BernoulliNB\n",
      "[[197  15]\n",
      " [ 21 336]]\n",
      "\n"
     ]
    }
   ],
   "source": [
    "print('Breast Cancer')\n",
    "classify_predict(data, target)\n",
    "#print(data_bCancer.DESCR)"
   ]
  },
  {
   "cell_type": "code",
   "execution_count": 82,
   "metadata": {},
   "outputs": [
    {
     "name": "stdout",
     "output_type": "stream",
     "text": [
      "['__all__', '__builtins__', '__cached__', '__doc__', '__file__', '__loader__', '__name__', '__package__', '__path__', '__spec__', '_svmlight_format', 'base', 'california_housing', 'clear_data_home', 'covtype', 'dump_svmlight_file', 'fetch_20newsgroups', 'fetch_20newsgroups_vectorized', 'fetch_california_housing', 'fetch_covtype', 'fetch_kddcup99', 'fetch_lfw_pairs', 'fetch_lfw_people', 'fetch_mldata', 'fetch_olivetti_faces', 'fetch_rcv1', 'fetch_species_distributions', 'get_data_home', 'kddcup99', 'lfw', 'load_boston', 'load_breast_cancer', 'load_diabetes', 'load_digits', 'load_files', 'load_iris', 'load_linnerud', 'load_mlcomp', 'load_sample_image', 'load_sample_images', 'load_svmlight_file', 'load_svmlight_files', 'load_wine', 'make_biclusters', 'make_blobs', 'make_checkerboard', 'make_circles', 'make_classification', 'make_friedman1', 'make_friedman2', 'make_friedman3', 'make_gaussian_quantiles', 'make_hastie_10_2', 'make_low_rank_matrix', 'make_moons', 'make_multilabel_classification', 'make_regression', 'make_s_curve', 'make_sparse_coded_signal', 'make_sparse_spd_matrix', 'make_sparse_uncorrelated', 'make_spd_matrix', 'make_swiss_roll', 'mlcomp', 'mldata', 'mldata_filename', 'olivetti_faces', 'rcv1', 'samples_generator', 'species_distributions', 'svmlight_format', 'twenty_newsgroups']\n"
     ]
    }
   ],
   "source": [
    "print(dir(datasets))"
   ]
  },
  {
   "cell_type": "code",
   "execution_count": 85,
   "metadata": {},
   "outputs": [
    {
     "name": "stdout",
     "output_type": "stream",
     "text": [
      "load_breast_cancer\n",
      "GaussianNB\n",
      "[[189  23]\n",
      " [ 10 347]]\n",
      "\n",
      "MultinomialNB\n",
      "[[163  49]\n",
      " [ 10 347]]\n",
      "\n",
      "BernoulliNB\n",
      "[[197  15]\n",
      " [ 21 336]]\n",
      "\n",
      "load_digits\n",
      "GaussianNB\n",
      "[[176   0   0   0   1   0   0   1   0   0]\n",
      " [  0 154   0   0   0   0   3   5  14   6]\n",
      " [  0  13 113   0   0   1   1   0  49   0]\n",
      " [  0   2   2 145   0   6   0   7  20   1]\n",
      " [  1   1   0   0 152   1   2  21   3   0]\n",
      " [  0   0   0   3   0 169   1   6   2   1]\n",
      " [  0   1   0   0   0   1 179   0   0   0]\n",
      " [  0   0   0   0   1   1   0 177   0   0]\n",
      " [  0   8   0   1   0   3   0  12 150   0]\n",
      " [  1   6   0   5   1   3   0  17  20 127]]\n",
      "\n",
      "MultinomialNB\n",
      "[[175   0   0   0   3   0   0   0   0   0]\n",
      " [  0 137  14   0   0   1   2   0  13  15]\n",
      " [  0   7 160   0   0   0   0   0   8   2]\n",
      " [  0   0   2 159   0   2   0   5   8   7]\n",
      " [  1   0   0   0 173   0   0   4   3   0]\n",
      " [  0   0   0   0   1 157   1   1   2  20]\n",
      " [  0   2   0   0   1   1 176   0   1   0]\n",
      " [  0   0   0   0   0   0   0 178   1   0]\n",
      " [  0  11   1   0   1   0   1   1 154   5]\n",
      " [  0   1   0   1   1   1   0  11   7 158]]\n",
      "\n",
      "BernoulliNB\n",
      "[[172   1   0   0   3   1   1   0   0   0]\n",
      " [  0 146  10   0   1   1   1   1   9  13]\n",
      " [  0   5 160   1   0   0   0   1   8   2]\n",
      " [  1   1   3 153   0   3   0   8   8   6]\n",
      " [  0   4   0   0 170   0   0   5   2   0]\n",
      " [  0   2   0   0   2 161   1   0   2  14]\n",
      " [  1   3   0   0   1   0 176   0   0   0]\n",
      " [  0   0   0   0   0   0   0 175   3   1]\n",
      " [  0  17   2   4   0   3   0   1 141   6]\n",
      " [  0   3   0   4   1   2   0   8   5 157]]\n",
      "\n",
      "load_iris\n",
      "GaussianNB\n",
      "[[50  0  0]\n",
      " [ 0 47  3]\n",
      " [ 0  3 47]]\n",
      "\n",
      "MultinomialNB\n",
      "[[50  0  0]\n",
      " [ 0 46  4]\n",
      " [ 0  3 47]]\n",
      "\n",
      "BernoulliNB\n",
      "[[50  0  0]\n",
      " [ 6 19 25]\n",
      " [ 0  6 44]]\n",
      "\n",
      "load_wine\n",
      "GaussianNB\n",
      "[[58  1  0]\n",
      " [ 0 70  1]\n",
      " [ 0  0 48]]\n",
      "\n",
      "MultinomialNB\n",
      "[[52  5  2]\n",
      " [ 3 61  7]\n",
      " [ 1  5 42]]\n",
      "\n",
      "BernoulliNB\n",
      "[[58  1  0]\n",
      " [ 4 62  5]\n",
      " [ 0  1 47]]\n",
      "\n"
     ]
    }
   ],
   "source": [
    "## Print classification and prediction for various datasets:\n",
    "for x in dir(datasets):\n",
    "    if x in ['load_wine', 'load_breast_cancer', 'load_digits', 'load_iris']:\n",
    "        print(x)\n",
    "        dataset = getattr(datasets, x)() ## Think about datasets.load_x()\n",
    "        target = dataset.target\n",
    "        data = dataset.data\n",
    "        classify_predict(data, target)"
   ]
  },
  {
   "cell_type": "code",
   "execution_count": 88,
   "metadata": {},
   "outputs": [
    {
     "data": {
      "text/plain": [
       "([<matplotlib.lines.Line2D at 0x109e89ac8>], None)"
      ]
     },
     "execution_count": 88,
     "metadata": {},
     "output_type": "execute_result"
    },
    {
     "data": {
      "image/png": "[encoded data removed]",
      "text/plain": [
       "<Figure size 432x288 with 1 Axes>"
      ]
     },
     "metadata": {},
     "output_type": "display_data"
    }
   ],
   "source": [
    "plot(target), grid()"
   ]
  },
  {
   "cell_type": "code",
   "execution_count": null,
   "metadata": {},
   "outputs": [],
   "source": []
  }
 ],
 "metadata": {
  "kernelspec": {
   "display_name": "Python 3",
   "language": "python",
   "name": "python3"
  },
  "language_info": {
   "codemirror_mode": {
    "name": "ipython",
    "version": 3
   },
   "file_extension": ".py",
   "mimetype": "text/x-python",
   "name": "python",
   "nbconvert_exporter": "python",
   "pygments_lexer": "ipython3",
   "version": "3.6.5"
  }
 },
 "nbformat": 4,
 "nbformat_minor": 2
}
