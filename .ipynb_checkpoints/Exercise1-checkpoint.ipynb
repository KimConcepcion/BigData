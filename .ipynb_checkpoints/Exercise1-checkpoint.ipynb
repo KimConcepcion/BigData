{
 "cells": [
  {
   "cell_type": "code",
   "execution_count": 47,
   "metadata": {},
   "outputs": [
    {
     "name": "stdout",
     "output_type": "stream",
     "text": [
      "List of files: ['kimNotebook.ipynb', 'Exercise1.ipynb', '__pycache__', 'test.py', 'test.txt', '.ipynb_checkpoints']\n",
      "-------------------------------\n",
      "List in reversed order:\n",
      "file  1 .ipynb_checkpoints\n",
      "file  2 test.txt\n",
      "file  3 test.py\n",
      "file  4 __pycache__\n",
      "file  5 Exercise1.ipynb\n",
      "file  6 kimNotebook.ipynb\n",
      "--------------------------------\n",
      "Number of files in directory: [ /Users/kimnielsen/JupyterNotebook ] -> 6\n"
     ]
    }
   ],
   "source": [
    "## Import the module:\n",
    "import os\n",
    "\n",
    "## Angiv en sti:\n",
    "PATH = '/Users/kimnielsen/JupyterNotebook'\n",
    "i = 1\n",
    "\n",
    "## Opret liste med filer:\n",
    "files = os.listdir(PATH)\n",
    "\n",
    "## Udskriv filer:\n",
    "print(\"List of files:\", files)\n",
    "print(\"-------------------------------\\nList in reversed order:\")\n",
    "for j in reversed(files):\n",
    "    print('file ', i, j)\n",
    "    i = i+1\n",
    "    \n",
    "## Antal af filer:\n",
    "num = len(files)\n",
    "\n",
    "## Print antal af filer:\n",
    "print(\"--------------------------------\\nNumber of files in directory:\", '[', PATH, ']', '->', num)"
   ]
  },
  {
   "cell_type": "code",
   "execution_count": null,
   "metadata": {},
   "outputs": [],
   "source": []
  }
 ],
 "metadata": {
  "kernelspec": {
   "display_name": "Python 3",
   "language": "python",
   "name": "python3"
  },
  "language_info": {
   "codemirror_mode": {
    "name": "ipython",
    "version": 3
   },
   "file_extension": ".py",
   "mimetype": "text/x-python",
   "name": "python",
   "nbconvert_exporter": "python",
   "pygments_lexer": "ipython3",
   "version": "3.6.5"
  }
 },
 "nbformat": 4,
 "nbformat_minor": 2
}
